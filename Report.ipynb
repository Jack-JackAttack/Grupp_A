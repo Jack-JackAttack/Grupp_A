{
 "cells": [
  {
   "cell_type": "markdown",
   "id": "76a35b54",
   "metadata": {},
   "source": [
    "# Test \n",
    "\n",
    "test \n",
    "\n",
    "test - Jack\n",
    "Hej ifrån Marcus "
   ]
  }
 ],
 "metadata": {
  "language_info": {
   "name": "python"
  }
 },
 "nbformat": 4,
 "nbformat_minor": 5
}
