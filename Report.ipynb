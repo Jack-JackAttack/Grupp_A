{
 "cells": [
  {
   "cell_type": "markdown",
   "id": "76a35b54",
   "metadata": {},
   "source": [
    "# Gruppuppgift – E-handel: snabbrapport & GitHub-samarbete"
   ]
  },
  {
   "cell_type": "code",
   "execution_count": 1,
   "id": "4cfabf13",
   "metadata": {},
   "outputs": [
    {
     "ename": "ModuleNotFoundError",
     "evalue": "No module named 'pandas'",
     "output_type": "error",
     "traceback": [
      "\u001b[31m---------------------------------------------------------------------------\u001b[39m",
      "\u001b[31mModuleNotFoundError\u001b[39m                       Traceback (most recent call last)",
      "\u001b[36mCell\u001b[39m\u001b[36m \u001b[39m\u001b[32mIn[1]\u001b[39m\u001b[32m, line 1\u001b[39m\n\u001b[32m----> \u001b[39m\u001b[32m1\u001b[39m \u001b[38;5;28;01mimport\u001b[39;00m\u001b[38;5;250m \u001b[39m\u001b[34;01mpandas\u001b[39;00m\u001b[38;5;250m \u001b[39m\u001b[38;5;28;01mas\u001b[39;00m\u001b[38;5;250m \u001b[39m\u001b[34;01mpd\u001b[39;00m                                                 \u001b[38;5;66;03m# Installera pandas först (pip install pandas)\u001b[39;00m\n\u001b[32m      2\u001b[39m \u001b[38;5;28;01mimport\u001b[39;00m\u001b[38;5;250m \u001b[39m\u001b[34;01mmatplotlib\u001b[39;00m\u001b[34;01m.\u001b[39;00m\u001b[34;01mpyplot\u001b[39;00m\u001b[38;5;250m \u001b[39m\u001b[38;5;28;01mas\u001b[39;00m\u001b[38;5;250m \u001b[39m\u001b[34;01mplt\u001b[39;00m                                     \u001b[38;5;66;03m# Installera matplotlib först (pip install matplotlib)\u001b[39;00m\n\u001b[32m      4\u001b[39m \u001b[38;5;28;01mfrom\u001b[39;00m\u001b[38;5;250m \u001b[39m\u001b[34;01msrc\u001b[39;00m\u001b[34;01m.\u001b[39;00m\u001b[34;01mecommerce\u001b[39;00m\u001b[38;5;250m \u001b[39m\u001b[38;5;28;01mimport\u001b[39;00m EcommerceAnalyzer                         \u001b[38;5;66;03m# Importerar vår klass från ecommerce.py\u001b[39;00m\n",
      "\u001b[31mModuleNotFoundError\u001b[39m: No module named 'pandas'"
     ]
    }
   ],
   "source": [
    "import pandas as pd                                                 # Installera pandas först (pip install pandas)\n",
    "import matplotlib.pyplot as plt                                     # Installera matplotlib först (pip install matplotlib)\n",
    "\n",
    "from src.ecommerce import EcommerceAnalyzer                         # Importerar vår klass från ecommerce.py\n",
    "\n",
    "\n",
    "report = EcommerceAnalyzer(\"data/ecommerce_sales.csv\")              # Skapar ett objekt från filen vi importerar via filvägen"
   ]
  },
  {
   "cell_type": "markdown",
   "id": "67d9c42e",
   "metadata": {},
   "source": [
    "- Skriver ut två nyckeltal, totala antalet sålda units och total revenue för varje stad, sorterat efter revenue"
   ]
  },
  {
   "cell_type": "code",
   "execution_count": null,
   "id": "de069e4a",
   "metadata": {},
   "outputs": [],
   "source": [
    "rev_units = report.rev_unit_count()\n",
    "rev_units"
   ]
  },
  {
   "cell_type": "markdown",
   "id": "7e085bc8",
   "metadata": {},
   "source": [
    "- Intäkter per stad"
   ]
  },
  {
   "cell_type": "code",
   "execution_count": null,
   "id": "5fea570a",
   "metadata": {},
   "outputs": [],
   "source": [
    "# stapeldiagram\n",
    "rev_city = report.rev_per_city_viz()\n",
    "rev_city"
   ]
  },
  {
   "cell_type": "markdown",
   "id": "01525119",
   "metadata": {},
   "source": [
    "- Top 3 kategorier i försäljning"
   ]
  },
  {
   "cell_type": "code",
   "execution_count": null,
   "id": "6b0c648e",
   "metadata": {},
   "outputs": [],
   "source": [
    "#top 3\n",
    "rev_catagory = report.rev_per_category()\n",
    "rev_catagory.head(3)"
   ]
  },
  {
   "cell_type": "markdown",
   "id": "12b99697",
   "metadata": {},
   "source": [
    "- Figuren nedan visar försäljning per månad för 2024(januari - juni), med en tydlig försälningstopp i januari följt av maj månad, samt ett stort tapp i mars."
   ]
  },
  {
   "cell_type": "code",
   "execution_count": null,
   "id": "921d438b",
   "metadata": {},
   "outputs": [],
   "source": [
    "rev_month = report.rev_per_month_viz()\n",
    "rev_month"
   ]
  },
  {
   "cell_type": "markdown",
   "id": "9b5258c4",
   "metadata": {},
   "source": [
    "- Average order value"
   ]
  },
  {
   "cell_type": "code",
   "execution_count": null,
   "id": "e8535a43",
   "metadata": {},
   "outputs": [],
   "source": [
    "# AOV"
   ]
  },
  {
   "cell_type": "markdown",
   "id": "494c5915",
   "metadata": {},
   "source": [
    "- Eventuella Avvikelser"
   ]
  },
  {
   "cell_type": "code",
   "execution_count": null,
   "id": "228695f3",
   "metadata": {},
   "outputs": [],
   "source": [
    "# outliers"
   ]
  },
  {
   "cell_type": "markdown",
   "id": "4cacd009",
   "metadata": {},
   "source": [
    "# Rekommendationer"
   ]
  },
  {
   "cell_type": "code",
   "execution_count": null,
   "id": "6638dbb2",
   "metadata": {},
   "outputs": [],
   "source": []
  }
 ],
 "metadata": {
  "kernelspec": {
   "display_name": ".venv",
   "language": "python",
   "name": "python3"
  },
  "language_info": {
   "codemirror_mode": {
    "name": "ipython",
    "version": 3
   },
   "file_extension": ".py",
   "mimetype": "text/x-python",
   "name": "python",
   "nbconvert_exporter": "python",
   "pygments_lexer": "ipython3",
   "version": "3.13.7"
  }
 },
 "nbformat": 4,
 "nbformat_minor": 5
}
