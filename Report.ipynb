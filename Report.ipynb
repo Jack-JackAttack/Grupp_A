{
 "cells": [
  {
   "cell_type": "markdown",
   "id": "76a35b54",
   "metadata": {},
   "source": [
    "# Gruppuppgift – E-handel: snabbrapport & GitHub-samarbete"
   ]
  },
  {
   "cell_type": "code",
   "execution_count": 1,
   "id": "4cfabf13",
   "metadata": {},
   "outputs": [],
   "source": [
    "import pandas as pd                                                 # Installera pandas först (pip install pandas)\n",
    "import matplotlib.pyplot as plt                                     # Installera matplotlib först (pip install matplotlib)\n",
    "\n",
    "from src.ecommerce import EcommerceAnalyzer                         # Importerar vår klass från ecommerce.py\n",
    "\n",
    "\n",
    "report = EcommerceAnalyzer(\"data/ecommerce_sales.csv\")              # Skapar ett objekt från filen vi importerar via filvägen"
   ]
  },
  {
   "cell_type": "markdown",
   "id": "67d9c42e",
   "metadata": {},
   "source": [
    "- Skriver ut två nyckeltal, totala antalet sålda units och total revenue för varje stad, sorterat efter revenue"
   ]
  },
  {
   "cell_type": "code",
   "execution_count": 6,
   "id": "de069e4a",
   "metadata": {},
   "outputs": [
    {
     "data": {
      "application/vnd.microsoft.datawrangler.viewer.v0+json": {
       "columns": [
        {
         "name": "city",
         "rawType": "object",
         "type": "string"
        },
        {
         "name": "Revenue",
         "rawType": "float64",
         "type": "float"
        },
        {
         "name": "Units",
         "rawType": "int64",
         "type": "integer"
        }
       ],
<<<<<<< HEAD
       "ref": "756c5e35-6afc-4afa-9095-839f0b5ac4e2",
=======
       "ref": "f8fb30bf-6dc5-422c-abb6-a378a87ffa03",
>>>>>>> origin/main
       "rows": [
        [
         "Stockholm",
         "1227201.94",
         "2619"
        ],
        [
         "Göteborg",
         "859019.65",
         "1788"
        ],
        [
         "Malmö",
         "567926.32",
         "1211"
        ],
        [
         "Uppsala",
         "551478.42",
         "1165"
        ],
        [
         "Västerås",
         "297140.9",
         "680"
        ]
       ],
       "shape": {
        "columns": 2,
        "rows": 5
       }
      },
      "text/html": [
       "<div>\n",
       "<style scoped>\n",
       "    .dataframe tbody tr th:only-of-type {\n",
       "        vertical-align: middle;\n",
       "    }\n",
       "\n",
       "    .dataframe tbody tr th {\n",
       "        vertical-align: top;\n",
       "    }\n",
       "\n",
       "    .dataframe thead th {\n",
       "        text-align: right;\n",
       "    }\n",
       "</style>\n",
       "<table border=\"1\" class=\"dataframe\">\n",
       "  <thead>\n",
       "    <tr style=\"text-align: right;\">\n",
       "      <th></th>\n",
       "      <th>Revenue</th>\n",
       "      <th>Units</th>\n",
       "    </tr>\n",
       "    <tr>\n",
       "      <th>city</th>\n",
       "      <th></th>\n",
       "      <th></th>\n",
       "    </tr>\n",
       "  </thead>\n",
       "  <tbody>\n",
       "    <tr>\n",
       "      <th>Stockholm</th>\n",
       "      <td>1227201.94</td>\n",
       "      <td>2619</td>\n",
       "    </tr>\n",
       "    <tr>\n",
       "      <th>Göteborg</th>\n",
       "      <td>859019.65</td>\n",
       "      <td>1788</td>\n",
       "    </tr>\n",
       "    <tr>\n",
       "      <th>Malmö</th>\n",
       "      <td>567926.32</td>\n",
       "      <td>1211</td>\n",
       "    </tr>\n",
       "    <tr>\n",
       "      <th>Uppsala</th>\n",
       "      <td>551478.42</td>\n",
       "      <td>1165</td>\n",
       "    </tr>\n",
       "    <tr>\n",
       "      <th>Västerås</th>\n",
       "      <td>297140.90</td>\n",
       "      <td>680</td>\n",
       "    </tr>\n",
       "  </tbody>\n",
       "</table>\n",
       "</div>"
      ],
      "text/plain": [
       "              Revenue  Units\n",
       "city                        \n",
       "Stockholm  1227201.94   2619\n",
       "Göteborg    859019.65   1788\n",
       "Malmö       567926.32   1211\n",
       "Uppsala     551478.42   1165\n",
       "Västerås    297140.90    680"
      ]
     },
     "execution_count": 6,
     "metadata": {},
     "output_type": "execute_result"
    }
   ],
   "source": [
    "rev_units = report.rev_unit_count()\n",
    "rev_units"
   ]
  },
  {
   "cell_type": "markdown",
   "id": "7e085bc8",
   "metadata": {},
   "source": [
    "- Intäkter per stad"
   ]
  },
  {
   "cell_type": "code",
   "execution_count": 3,
   "id": "5fea570a",
   "metadata": {},
   "outputs": [],
   "source": [
    "# stapeldiagram"
   ]
  },
  {
   "cell_type": "markdown",
   "id": "01525119",
   "metadata": {},
   "source": [
    "- Top 3 kategorier i försäljning"
   ]
  },
  {
   "cell_type": "code",
   "execution_count": 2,
   "id": "6b0c648e",
   "metadata": {},
   "outputs": [
    {
     "data": {
      "application/vnd.microsoft.datawrangler.viewer.v0+json": {
       "columns": [
        {
         "name": "category",
         "rawType": "object",
         "type": "string"
        },
        {
         "name": "Revenue",
         "rawType": "float64",
         "type": "float"
        },
        {
         "name": "Units",
         "rawType": "int64",
         "type": "integer"
        }
       ],
       "ref": "f7a7b417-0e0f-40f6-8e8c-4e0669951dcf",
       "rows": [
        [
         "Electronics",
         "1364228.07",
         "1753"
        ],
        [
         "Sports",
         "734653.42",
         "1401"
        ],
        [
         "Clothing",
         "586744.91",
         "1655"
        ]
       ],
       "shape": {
        "columns": 2,
        "rows": 3
       }
      },
      "text/html": [
       "<div>\n",
       "<style scoped>\n",
       "    .dataframe tbody tr th:only-of-type {\n",
       "        vertical-align: middle;\n",
       "    }\n",
       "\n",
       "    .dataframe tbody tr th {\n",
       "        vertical-align: top;\n",
       "    }\n",
       "\n",
       "    .dataframe thead th {\n",
       "        text-align: right;\n",
       "    }\n",
       "</style>\n",
       "<table border=\"1\" class=\"dataframe\">\n",
       "  <thead>\n",
       "    <tr style=\"text-align: right;\">\n",
       "      <th></th>\n",
       "      <th>Revenue</th>\n",
       "      <th>Units</th>\n",
       "    </tr>\n",
       "    <tr>\n",
       "      <th>category</th>\n",
       "      <th></th>\n",
       "      <th></th>\n",
       "    </tr>\n",
       "  </thead>\n",
       "  <tbody>\n",
       "    <tr>\n",
       "      <th>Electronics</th>\n",
       "      <td>1364228.07</td>\n",
       "      <td>1753</td>\n",
       "    </tr>\n",
       "    <tr>\n",
       "      <th>Sports</th>\n",
       "      <td>734653.42</td>\n",
       "      <td>1401</td>\n",
       "    </tr>\n",
       "    <tr>\n",
       "      <th>Clothing</th>\n",
       "      <td>586744.91</td>\n",
       "      <td>1655</td>\n",
       "    </tr>\n",
       "  </tbody>\n",
       "</table>\n",
       "</div>"
      ],
      "text/plain": [
       "                Revenue  Units\n",
       "category                      \n",
       "Electronics  1364228.07   1753\n",
       "Sports        734653.42   1401\n",
       "Clothing      586744.91   1655"
      ]
     },
     "execution_count": 2,
     "metadata": {},
     "output_type": "execute_result"
    }
   ],
   "source": [
    "#top 3\n",
    "rev_catagory = report.rev_per_category()\n",
    "rev_catagory.head(3)"
   ]
  },
  {
   "cell_type": "markdown",
   "id": "12b99697",
   "metadata": {},
   "source": [
    "- Figuren nedan visar försäljning per månad för 2024(januari - juni), med en tydlig försälningstopp i januari följt av maj månad, samt ett stort tapp i mars."
   ]
  },
  {
   "cell_type": "code",
   "execution_count": 5,
   "id": "921d438b",
   "metadata": {},
   "outputs": [
    {
     "data": {
      "text/plain": [
       "<Axes: title={'center': 'Försäljning per månad 2024'}, xlabel='Månad', ylabel='Intäkt'>"
      ]
     },
     "execution_count": 5,
     "metadata": {},
     "output_type": "execute_result"
    },
    {
     "data": {
      "image/png": "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",
      "text/plain": [
       "<Figure size 640x480 with 1 Axes>"
      ]
     },
     "metadata": {},
     "output_type": "display_data"
    }
   ],
   "source": [
    "rev_month = report.rev_per_month_viz()\n",
    "rev_month"
   ]
  },
  {
   "cell_type": "markdown",
   "id": "9b5258c4",
   "metadata": {},
   "source": [
    "- Average order value"
   ]
  },
  {
   "cell_type": "code",
   "execution_count": 6,
   "id": "e8535a43",
   "metadata": {},
   "outputs": [],
   "source": [
    "# AOV"
   ]
  },
  {
   "cell_type": "markdown",
   "id": "494c5915",
   "metadata": {},
   "source": [
    "- Eventuella Avvikelser"
   ]
  },
  {
   "cell_type": "code",
   "execution_count": 7,
   "id": "228695f3",
   "metadata": {},
   "outputs": [],
   "source": [
    "# outliers"
   ]
  },
  {
   "cell_type": "markdown",
   "id": "4cacd009",
   "metadata": {},
   "source": [
    "# Rekommendationer"
   ]
  }
 ],
 "metadata": {
  "kernelspec": {
   "display_name": ".venv",
   "language": "python",
   "name": "python3"
  },
  "language_info": {
   "codemirror_mode": {
    "name": "ipython",
    "version": 3
   },
   "file_extension": ".py",
   "mimetype": "text/x-python",
   "name": "python",
   "nbconvert_exporter": "python",
   "pygments_lexer": "ipython3",
   "version": "3.13.7"
  }
 },
 "nbformat": 4,
 "nbformat_minor": 5
}
