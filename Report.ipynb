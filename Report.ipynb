{
 "cells": [
  {
   "cell_type": "markdown",
   "id": "76a35b54",
   "metadata": {},
   "source": [
    "# Gruppuppgift – E-handel: snabbrapport & GitHub-samarbete"
   ]
  },
  {
   "cell_type": "code",
   "execution_count": 1,
   "id": "4cfabf13",
   "metadata": {},
   "outputs": [],
   "source": [
    "import pandas as pd                                                 # Installera pandas först (pip install pandas)\n",
    "import matplotlib.pyplot as plt                                     # Installera matplotlib först (pip install matplotlib)\n",
    "\n",
    "from src.ecommerce import EcommerceAnalyzer                         # Importerar vår klass från ecommerce.py\n",
    "\n",
    "\n",
    "report = EcommerceAnalyzer(\"data/ecommerce_sales.csv\")              # Skapar ett objekt from filen vi importerar via filvägen"
   ]
  },
  {
   "cell_type": "markdown",
   "id": "67d9c42e",
   "metadata": {},
   "source": [
    "- Skriver ut två nyckeltal, totala antalet sålda units och total revenue för varje stad, sorterat efter revenue"
   ]
  },
  {
   "cell_type": "code",
   "execution_count": 6,
   "id": "de069e4a",
   "metadata": {},
   "outputs": [
    {
     "data": {
      "application/vnd.microsoft.datawrangler.viewer.v0+json": {
       "columns": [
        {
         "name": "city",
         "rawType": "object",
         "type": "string"
        },
        {
         "name": "Revenue",
         "rawType": "float64",
         "type": "float"
        },
        {
         "name": "Units",
         "rawType": "int64",
         "type": "integer"
        }
       ],
       "ref": "f8fb30bf-6dc5-422c-abb6-a378a87ffa03",
       "rows": [
        [
         "Stockholm",
         "1227201.94",
         "2619"
        ],
        [
         "Göteborg",
         "859019.65",
         "1788"
        ],
        [
         "Malmö",
         "567926.32",
         "1211"
        ],
        [
         "Uppsala",
         "551478.42",
         "1165"
        ],
        [
         "Västerås",
         "297140.9",
         "680"
        ]
       ],
       "shape": {
        "columns": 2,
        "rows": 5
       }
      },
      "text/html": [
       "<div>\n",
       "<style scoped>\n",
       "    .dataframe tbody tr th:only-of-type {\n",
       "        vertical-align: middle;\n",
       "    }\n",
       "\n",
       "    .dataframe tbody tr th {\n",
       "        vertical-align: top;\n",
       "    }\n",
       "\n",
       "    .dataframe thead th {\n",
       "        text-align: right;\n",
       "    }\n",
       "</style>\n",
       "<table border=\"1\" class=\"dataframe\">\n",
       "  <thead>\n",
       "    <tr style=\"text-align: right;\">\n",
       "      <th></th>\n",
       "      <th>Revenue</th>\n",
       "      <th>Units</th>\n",
       "    </tr>\n",
       "    <tr>\n",
       "      <th>city</th>\n",
       "      <th></th>\n",
       "      <th></th>\n",
       "    </tr>\n",
       "  </thead>\n",
       "  <tbody>\n",
       "    <tr>\n",
       "      <th>Stockholm</th>\n",
       "      <td>1227201.94</td>\n",
       "      <td>2619</td>\n",
       "    </tr>\n",
       "    <tr>\n",
       "      <th>Göteborg</th>\n",
       "      <td>859019.65</td>\n",
       "      <td>1788</td>\n",
       "    </tr>\n",
       "    <tr>\n",
       "      <th>Malmö</th>\n",
       "      <td>567926.32</td>\n",
       "      <td>1211</td>\n",
       "    </tr>\n",
       "    <tr>\n",
       "      <th>Uppsala</th>\n",
       "      <td>551478.42</td>\n",
       "      <td>1165</td>\n",
       "    </tr>\n",
       "    <tr>\n",
       "      <th>Västerås</th>\n",
       "      <td>297140.90</td>\n",
       "      <td>680</td>\n",
       "    </tr>\n",
       "  </tbody>\n",
       "</table>\n",
       "</div>"
      ],
      "text/plain": [
       "              Revenue  Units\n",
       "city                        \n",
       "Stockholm  1227201.94   2619\n",
       "Göteborg    859019.65   1788\n",
       "Malmö       567926.32   1211\n",
       "Uppsala     551478.42   1165\n",
       "Västerås    297140.90    680"
      ]
     },
     "execution_count": 6,
     "metadata": {},
     "output_type": "execute_result"
    }
   ],
   "source": [
    "rev_units = report.rev_unit_count()\n",
    "rev_units"
   ]
  },
  {
   "cell_type": "markdown",
   "id": "7e085bc8",
   "metadata": {},
   "source": [
    "- Intäkter per stad"
   ]
  },
  {
   "cell_type": "code",
   "execution_count": 3,
   "id": "5fea570a",
   "metadata": {},
   "outputs": [],
   "source": [
    "# stapeldiagram"
   ]
  },
  {
   "cell_type": "markdown",
   "id": "01525119",
   "metadata": {},
   "source": [
    "- Top 3 kategorier i försäljning"
   ]
  },
  {
   "cell_type": "code",
   "execution_count": 2,
   "id": "6b0c648e",
   "metadata": {},
   "outputs": [
    {
     "data": {
      "application/vnd.microsoft.datawrangler.viewer.v0+json": {
       "columns": [
        {
         "name": "category",
         "rawType": "object",
         "type": "string"
        },
        {
         "name": "Revenue",
         "rawType": "float64",
         "type": "float"
        },
        {
         "name": "Units",
         "rawType": "int64",
         "type": "integer"
        }
       ],
       "ref": "f7a7b417-0e0f-40f6-8e8c-4e0669951dcf",
       "rows": [
        [
         "Electronics",
         "1364228.07",
         "1753"
        ],
        [
         "Sports",
         "734653.42",
         "1401"
        ],
        [
         "Clothing",
         "586744.91",
         "1655"
        ]
       ],
       "shape": {
        "columns": 2,
        "rows": 3
       }
      },
      "text/html": [
       "<div>\n",
       "<style scoped>\n",
       "    .dataframe tbody tr th:only-of-type {\n",
       "        vertical-align: middle;\n",
       "    }\n",
       "\n",
       "    .dataframe tbody tr th {\n",
       "        vertical-align: top;\n",
       "    }\n",
       "\n",
       "    .dataframe thead th {\n",
       "        text-align: right;\n",
       "    }\n",
       "</style>\n",
       "<table border=\"1\" class=\"dataframe\">\n",
       "  <thead>\n",
       "    <tr style=\"text-align: right;\">\n",
       "      <th></th>\n",
       "      <th>Revenue</th>\n",
       "      <th>Units</th>\n",
       "    </tr>\n",
       "    <tr>\n",
       "      <th>category</th>\n",
       "      <th></th>\n",
       "      <th></th>\n",
       "    </tr>\n",
       "  </thead>\n",
       "  <tbody>\n",
       "    <tr>\n",
       "      <th>Electronics</th>\n",
       "      <td>1364228.07</td>\n",
       "      <td>1753</td>\n",
       "    </tr>\n",
       "    <tr>\n",
       "      <th>Sports</th>\n",
       "      <td>734653.42</td>\n",
       "      <td>1401</td>\n",
       "    </tr>\n",
       "    <tr>\n",
       "      <th>Clothing</th>\n",
       "      <td>586744.91</td>\n",
       "      <td>1655</td>\n",
       "    </tr>\n",
       "  </tbody>\n",
       "</table>\n",
       "</div>"
      ],
      "text/plain": [
       "                Revenue  Units\n",
       "category                      \n",
       "Electronics  1364228.07   1753\n",
       "Sports        734653.42   1401\n",
       "Clothing      586744.91   1655"
      ]
     },
     "execution_count": 2,
     "metadata": {},
     "output_type": "execute_result"
    }
   ],
   "source": [
    "#top 3\n",
    "rev_catagory = report.rev_per_category()\n",
    "rev_catagory.head(3)"
   ]
  },
  {
   "cell_type": "markdown",
   "id": "12b99697",
   "metadata": {},
   "source": [
    "- Försäljning per månad"
   ]
  },
  {
   "cell_type": "code",
   "execution_count": 5,
   "id": "921d438b",
   "metadata": {},
   "outputs": [],
   "source": [
    "#per månad, stapeldiagram"
   ]
  },
  {
   "cell_type": "markdown",
   "id": "9b5258c4",
   "metadata": {},
   "source": [
    "- Average order value"
   ]
  },
  {
   "cell_type": "code",
   "execution_count": 6,
   "id": "e8535a43",
   "metadata": {},
   "outputs": [],
   "source": [
    "# AOV"
   ]
  },
  {
   "cell_type": "markdown",
   "id": "494c5915",
   "metadata": {},
   "source": [
    "- Eventuella Avvikelser"
   ]
  },
  {
   "cell_type": "code",
   "execution_count": 7,
   "id": "228695f3",
   "metadata": {},
   "outputs": [],
   "source": [
    "# outliers"
   ]
  },
  {
   "cell_type": "markdown",
   "id": "4cacd009",
   "metadata": {},
   "source": [
    "# Rekommendationer"
   ]
  }
 ],
 "metadata": {
  "kernelspec": {
   "display_name": ".venv",
   "language": "python",
   "name": "python3"
  },
  "language_info": {
   "codemirror_mode": {
    "name": "ipython",
    "version": 3
   },
   "file_extension": ".py",
   "mimetype": "text/x-python",
   "name": "python",
   "nbconvert_exporter": "python",
   "pygments_lexer": "ipython3",
   "version": "3.13.7"
  }
 },
 "nbformat": 4,
 "nbformat_minor": 5
}
